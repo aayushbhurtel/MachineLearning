{
  "nbformat": 4,
  "nbformat_minor": 0,
  "metadata": {
    "colab": {
      "provenance": [],
      "authorship_tag": "ABX9TyNHBOYiVCo3FbuPNyJS63uP"
    },
    "kernelspec": {
      "name": "python3",
      "display_name": "Python 3"
    },
    "language_info": {
      "name": "python"
    }
  },
  "cells": [
    {
      "cell_type": "code",
      "source": [
        "class InputNode(Node): # placeholder node\n",
        "    def __init__(self, name=None):\n",
        "        super().__init__(name)\n",
        "        self.value = None\n",
        "\n",
        "\n",
        "class LinearNode(Node):\n",
        "    def __init__(self, parent, weights, bias, name=None):\n",
        "        super().__init__(name)\n",
        "        self.parents = [parent]\n",
        "        parent.children.append(self)\n",
        "        self.weights = weights\n",
        "        self.bias = bias\n",
        "        self.value = None\n",
        "\n",
        "    def forward(self):\n",
        "        x = self.parents[0].value\n",
        "        if x is None:\n",
        "            raise ValueError(f\"Parent value of {self} is not set.\")\n",
        "        out_dim = len(self.bias)\n",
        "        in_dim = len(x)\n",
        "        result = []\n",
        "        for i in range(out_dim):\n",
        "            s = self.bias[i]\n",
        "            for j in range(in_dim):\n",
        "                s += self.weights[i][j] * x[j]\n",
        "            result.append(s)\n",
        "        self.value = result\n",
        "\n",
        "\n",
        "class ActivationNode(Node):\n",
        "    def __init__(self, parent, name=None):\n",
        "        super().__init__(name)\n",
        "        self.parents = [parent]\n",
        "        parent.children.append(self)\n",
        "        self.value = None\n",
        "\n",
        "    def _activate(self, x_element):\n",
        "        raise NotImplementedError(\"Override in subclass.\")\n",
        "\n",
        "    def forward(self):\n",
        "        x = self.parents[0].value\n",
        "        if x is None:\n",
        "            raise ValueError(f\"Parent value of {self} is not set.\")\n",
        "        self.value = [self._activate(xi) for xi in x]\n",
        "\n",
        "\n",
        "class ReLUNode(ActivationNode):\n",
        "    def _activate(self, x_element):\n",
        "        return x_element if x_element > 0 else 0\n",
        "\n",
        "\n",
        "class SigmoidNode(ActivationNode):\n",
        "    def _activate(self, x_element):\n",
        "        import math\n",
        "        return 1 / (1 + math.exp(-x_element))\n",
        "\n",
        "\n",
        "class TanhNode(ActivationNode):\n",
        "    def _activate(self, x_element):\n",
        "        import math\n",
        "        return math.tanh(x_element)\n"
      ],
      "metadata": {
        "id": "T9fCXfsq1xjW"
      },
      "execution_count": 27,
      "outputs": []
    },
    {
      "cell_type": "code",
      "source": [
        "def compute_outputs(graph, feed_dict): #Perform a forward pass on a feed‐forward DAG.\n",
        "    topo_list = graph.topological_sort()\n",
        "    for node in topo_list:\n",
        "        if node in feed_dict:\n",
        "            node.value = feed_dict[node]\n",
        "        else:\n",
        "            node.forward()\n",
        "\n",
        "    # Return a mapping node\n",
        "    return {node: node.value for node in topo_list}\n"
      ],
      "metadata": {
        "id": "K6zcSU185fYV"
      },
      "execution_count": 28,
      "outputs": []
    },
    {
      "cell_type": "code",
      "source": [
        "def compute_error(graph, root, feed_dict, true_label): # Compute the squared‐error\n",
        "    # 1) Forward pass to populate every node.value\n",
        "    values = compute_outputs(graph, feed_dict)\n",
        "\n",
        "    # 2) Extract the predicted vector from the root node\n",
        "    if root not in values:\n",
        "        raise KeyError(\"The specified root node is not in the graph.\")\n",
        "    prediction = values[root]\n",
        "\n",
        "    # 3) Ensure prediction and true_label have the same length\n",
        "    if len(prediction) != len(true_label):\n",
        "        raise ValueError(\"Length mismatch between prediction and true_label.\")\n",
        "\n",
        "    # 4) Compute sum of squared errors\n",
        "    error = 0.0\n",
        "    for p, t in zip(prediction, true_label):\n",
        "        diff = p - t\n",
        "        error += diff * diff\n",
        "\n",
        "    return error\n"
      ],
      "metadata": {
        "id": "3JCxrhEj6u3m"
      },
      "execution_count": 29,
      "outputs": []
    },
    {
      "cell_type": "code",
      "source": [
        "from keras.datasets import boston_housing\n",
        "import random\n",
        "\n",
        "# load data\n",
        "(x_train, y_train), (x_test, y_test) = boston_housing.load_data()\n",
        "\n",
        "\n",
        "x_sample = x_train[0]\n",
        "y_true = y_train[0]\n",
        "\n",
        "# Convert the feature vector into a Python list\n",
        "input_vector = x_sample.tolist()\n",
        "true_label    = [y_true]\n",
        "\n",
        "# Randomly initialize a 1×13 weight matrix and a bias of length 1\n",
        "W = [[random.uniform(-1, 1) for _ in range(13)]]\n",
        "b = [random.uniform(-1, 1)]\n",
        "\n",
        "# Create the nodes\n",
        "x   = InputNode()\n",
        "lin = LinearNode(x, W, b)\n",
        "\n",
        "# Build graph\n",
        "G = ComputationGraph()\n",
        "G.add_edge(x, lin)\n",
        "\n",
        "# 4) Run the forward pass on that single example\n",
        "feed_dict = { x: input_vector }\n",
        "values   = compute_outputs(G, feed_dict)\n",
        "y_pred   = lin.value    # a list of length 1 (e.g. [some_float])\n",
        "\n",
        "# 5) Compute squared-error loss against the true label\n",
        "error = compute_error(G, lin, feed_dict, true_label)\n",
        "\n",
        "# 6) Print everything out\n",
        "print(\"Input features (13 dims):\", input_vector)\n",
        "print(\"True target (one value):\", true_label)\n",
        "print(\"Predicted (linear) output:\", y_pred)\n",
        "print(\"Squared‐error loss:\", error)\n"
      ],
      "metadata": {
        "colab": {
          "base_uri": "https://localhost:8080/"
        },
        "id": "sWP2RDtF7yTV",
        "outputId": "a61a3ce2-74b0-4cc8-8b50-d09157b80750"
      },
      "execution_count": 34,
      "outputs": [
        {
          "output_type": "stream",
          "name": "stdout",
          "text": [
            "Input features (13 dims): [1.23247, 0.0, 8.14, 0.0, 0.538, 6.142, 91.7, 3.9769, 4.0, 307.0, 21.0, 396.9, 18.72]\n",
            "True target (one value): [np.float64(15.2)]\n",
            "Predicted (linear) output: [3.024064218940629]\n",
            "Squared‐error loss: 148.25341214448187\n"
          ]
        }
      ]
    }
  ]
}